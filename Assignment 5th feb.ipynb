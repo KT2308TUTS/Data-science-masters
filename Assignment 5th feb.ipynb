{
 "cells": [
  {
   "cell_type": "markdown",
   "id": "d26b9e12-90e6-4e36-9527-fe9f87f23054",
   "metadata": {},
   "source": [
    "1. Class is a collection of d\n"
   ]
  },
  {
   "cell_type": "markdown",
   "id": "0c513ae7-2599-4c76-9274-9da7b4c52a70",
   "metadata": {},
   "source": [
    "2. four pillars are Inheritance, Polymorphism, Encapsulation and Abstraction."
   ]
  },
  {
   "cell_type": "markdown",
   "id": "9b204ea0-dae7-4222-bb07-75de86ee4ef9",
   "metadata": {},
   "source": [
    "\n",
    "\n",
    "3.__init__() is used to create a constructor by passing arguement self."
   ]
  },
  {
   "cell_type": "markdown",
   "id": "cac96159-914f-46e4-ac1c-f9a48dffb319",
   "metadata": {},
   "source": [
    "4. The self variable is used to represent the instance of the class which is often used in object-oriented programming. It works as a reference to the object."
   ]
  },
  {
   "cell_type": "markdown",
   "id": "b443b774-ed37-4a5e-b80d-72e3162bed5a",
   "metadata": {},
   "source": [
    "5.Inheritance is a mechanism in which one class acquires the property of another class. "
   ]
  },
  {
   "cell_type": "code",
   "execution_count": null,
   "id": "ef5a96d6-182b-41a1-8a7a-92fc94884580",
   "metadata": {},
   "outputs": [],
   "source": []
  }
 ],
 "metadata": {
  "kernelspec": {
   "display_name": "Python 3 (ipykernel)",
   "language": "python",
   "name": "python3"
  },
  "language_info": {
   "codemirror_mode": {
    "name": "ipython",
    "version": 3
   },
   "file_extension": ".py",
   "mimetype": "text/x-python",
   "name": "python",
   "nbconvert_exporter": "python",
   "pygments_lexer": "ipython3",
   "version": "3.10.8"
  }
 },
 "nbformat": 4,
 "nbformat_minor": 5
}
