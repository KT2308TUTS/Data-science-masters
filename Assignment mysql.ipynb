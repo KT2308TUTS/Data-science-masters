{
 "cells": [
  {
   "cell_type": "markdown",
   "id": "58211dd4-8a0a-418f-a560-5e2744e0fd66",
   "metadata": {},
   "source": [
    "1. A database is an organized collection of structured information, or data, typically stored electronically in a computer system. SQL is database whic creates data like excel and NOSQL is something which stores data in ustructured way,"
   ]
  },
  {
   "cell_type": "markdown",
   "id": "b121b939-fc26-4f22-8d0f-3e1c551b54a5",
   "metadata": {},
   "source": [
    "2. DDL  is a language for describing data and its relationships in a database. CREATE, DROP, ALTER TRUNCATE are the commands used in my sql."
   ]
  },
  {
   "cell_type": "markdown",
   "id": "40f8c8ef-e498-4742-adec-7434a12756cc",
   "metadata": {},
   "source": [
    "3. Its a computer programming language that allows you to add (insert), delete (delete), and alter (update) data in a database."
   ]
  },
  {
   "cell_type": "markdown",
   "id": "f9443277-b265-4cec-b96c-ce19244cafd8",
   "metadata": {},
   "source": [
    "4. DQL is data query language it is used to fetch data from database. eg select * from table_name"
   ]
  },
  {
   "cell_type": "markdown",
   "id": "98cec6b2-2195-4ad0-ae90-3049709481a6",
   "metadata": {},
   "source": [
    "5. Primary key is the unique key for each entry. A foreign key is a column (or combination of columns) in a table whose values must match values of a column in some other table.  "
   ]
  },
  {
   "cell_type": "code",
   "execution_count": null,
   "id": "21ea8c6e-5d26-4c78-910a-b64668e439bb",
   "metadata": {},
   "outputs": [],
   "source": [
    "#6\n",
    "import mysql.connector\n",
    "db=mysql.connector.connect(host=\"localhost\"\n",
    "                           user=\"abc\"\n",
    "                           password=\"password\")\n",
    "c=db.cursor()\n",
    "c.execute(\"Command\")"
   ]
  }
 ],
 "metadata": {
  "kernelspec": {
   "display_name": "Python 3 (ipykernel)",
   "language": "python",
   "name": "python3"
  },
  "language_info": {
   "codemirror_mode": {
    "name": "ipython",
    "version": 3
   },
   "file_extension": ".py",
   "mimetype": "text/x-python",
   "name": "python",
   "nbconvert_exporter": "python",
   "pygments_lexer": "ipython3",
   "version": "3.10.8"
  }
 },
 "nbformat": 4,
 "nbformat_minor": 5
}
