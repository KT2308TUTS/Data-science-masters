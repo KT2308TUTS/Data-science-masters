{
 "cells": [
  {
   "cell_type": "code",
   "execution_count": 1,
   "id": "443e32e6-f7e3-4962-ba98-c19abe5c4c47",
   "metadata": {},
   "outputs": [
    {
     "name": "stdin",
     "output_type": "stream",
     "text": [
      "Enter your password:  AAbb####11\n"
     ]
    },
    {
     "data": {
      "text/plain": [
       "'Valid password.'"
      ]
     },
     "execution_count": 1,
     "metadata": {},
     "output_type": "execute_result"
    }
   ],
   "source": [
    "def pass_check():\n",
    "    count1=0\n",
    "    count2=0\n",
    "    count3=0\n",
    "    count4=0\n",
    "    a=input(\"Enter your password: \",)\n",
    "    if len(a)==10:\n",
    "            for i in range(len(a)):\n",
    "                if a[i].isupper():\n",
    "                    count1=count1+1\n",
    "                    continue\n",
    "                elif a[i].islower():\n",
    "                    count2=count2+1\n",
    "                    continue\n",
    "                elif a[i].isdigit():\n",
    "                    count3=count3+1\n",
    "                    continue\n",
    "                else:\n",
    "                    count4=count4+1\n",
    "                    continue\n",
    "            if count1>=2 and count2>=2 and count3>=1 and count4>=3:\n",
    "                    return \"Valid password.\"\n",
    "            else:\n",
    "                    return \"Invalid password.\"\n",
    "    else:\n",
    "        print(\"Password should be 10 character long.\")\n",
    "\n",
    "pass_check()"
   ]
  },
  {
   "cell_type": "markdown",
   "id": "3bbc0c51-41aa-4960-9f77-079720f1d289",
   "metadata": {},
   "source": [
    "### 2"
   ]
  },
  {
   "cell_type": "markdown",
   "id": "cd337e03-191c-4efb-9a89-f7c624bc47c2",
   "metadata": {},
   "source": [
    "Check if the string starts with a particular letterY"
   ]
  },
  {
   "cell_type": "code",
   "execution_count": 5,
   "id": "a3b1d249-849e-4a84-85c7-98151b83994d",
   "metadata": {},
   "outputs": [
    {
     "data": {
      "text/plain": [
       "'k'"
      ]
     },
     "execution_count": 5,
     "metadata": {},
     "output_type": "execute_result"
    }
   ],
   "source": [
    "y=lambda a: a[0]\n",
    "y('kunal')"
   ]
  },
  {
   "cell_type": "markdown",
   "id": "9ebacd71-8173-414f-a75f-dee58e878850",
   "metadata": {},
   "source": [
    "Check if the string is numeric"
   ]
  },
  {
   "cell_type": "code",
   "execution_count": 9,
   "id": "70a6bbcf-b098-4351-9f9d-f0b86689595d",
   "metadata": {},
   "outputs": [
    {
     "name": "stdout",
     "output_type": "stream",
     "text": [
      "yes\n"
     ]
    }
   ],
   "source": [
    "y=lambda a: print('yes') if a.isnumeric() else print('no')\n",
    "y('234')"
   ]
  },
  {
   "cell_type": "markdown",
   "id": "a4edf8c5-efa3-4e3b-abb5-01688a5c8631",
   "metadata": {},
   "source": [
    "Sort a list of tuples having fruit names and their quantity. [(\"mango\",99),(\"orange\",80), (\"grapes\", 1000)-"
   ]
  },
  {
   "cell_type": "code",
   "execution_count": 24,
   "id": "a2f00235-cc92-4690-b3a9-c89bb99342c8",
   "metadata": {},
   "outputs": [
    {
     "ename": "TypeError",
     "evalue": "'<' not supported between instances of 'int' and 'str'",
     "output_type": "error",
     "traceback": [
      "\u001b[0;31m---------------------------------------------------------------------------\u001b[0m",
      "\u001b[0;31mTypeError\u001b[0m                                 Traceback (most recent call last)",
      "Cell \u001b[0;32mIn[24], line 3\u001b[0m\n\u001b[1;32m      1\u001b[0m t\u001b[38;5;241m=\u001b[39m[(\u001b[38;5;124m\"\u001b[39m\u001b[38;5;124mmango\u001b[39m\u001b[38;5;124m\"\u001b[39m,\u001b[38;5;241m99\u001b[39m),(\u001b[38;5;124m\"\u001b[39m\u001b[38;5;124morange\u001b[39m\u001b[38;5;124m\"\u001b[39m,\u001b[38;5;241m80\u001b[39m), (\u001b[38;5;124m\"\u001b[39m\u001b[38;5;124mgrapes\u001b[39m\u001b[38;5;124m\"\u001b[39m, \u001b[38;5;241m1000\u001b[39m)]\n\u001b[1;32m      2\u001b[0m k\u001b[38;5;241m=\u001b[39m\u001b[38;5;28;01mlambda\u001b[39;00m t: \u001b[38;5;28msorted\u001b[39m(t)\n\u001b[0;32m----> 3\u001b[0m \u001b[38;5;28;43mlist\u001b[39;49m\u001b[43m(\u001b[49m\u001b[38;5;28;43mmap\u001b[39;49m\u001b[43m(\u001b[49m\u001b[43mk\u001b[49m\u001b[43m,\u001b[49m\u001b[43mt\u001b[49m\u001b[43m)\u001b[49m\u001b[43m)\u001b[49m\n",
      "Cell \u001b[0;32mIn[24], line 2\u001b[0m, in \u001b[0;36m<lambda>\u001b[0;34m(t)\u001b[0m\n\u001b[1;32m      1\u001b[0m t\u001b[38;5;241m=\u001b[39m[(\u001b[38;5;124m\"\u001b[39m\u001b[38;5;124mmango\u001b[39m\u001b[38;5;124m\"\u001b[39m,\u001b[38;5;241m99\u001b[39m),(\u001b[38;5;124m\"\u001b[39m\u001b[38;5;124morange\u001b[39m\u001b[38;5;124m\"\u001b[39m,\u001b[38;5;241m80\u001b[39m), (\u001b[38;5;124m\"\u001b[39m\u001b[38;5;124mgrapes\u001b[39m\u001b[38;5;124m\"\u001b[39m, \u001b[38;5;241m1000\u001b[39m)]\n\u001b[0;32m----> 2\u001b[0m k\u001b[38;5;241m=\u001b[39m\u001b[38;5;28;01mlambda\u001b[39;00m t: \u001b[38;5;28;43msorted\u001b[39;49m\u001b[43m(\u001b[49m\u001b[43mt\u001b[49m\u001b[43m)\u001b[49m\n\u001b[1;32m      3\u001b[0m \u001b[38;5;28mlist\u001b[39m(\u001b[38;5;28mmap\u001b[39m(k,t))\n",
      "\u001b[0;31mTypeError\u001b[0m: '<' not supported between instances of 'int' and 'str'"
     ]
    }
   ],
   "source": [
    "t=[(\"mango\",99),(\"orange\",80), (\"grapes\", 1000)]\n",
    "k=lambda t: sorted(t)\n",
    "list(map(k,t))"
   ]
  },
  {
   "cell_type": "markdown",
   "id": "1f3f6ad5-040a-4f01-b8fd-4ea1e61d067c",
   "metadata": {},
   "source": [
    "Find the cube root of a functions"
   ]
  },
  {
   "cell_type": "code",
   "execution_count": 18,
   "id": "c2ba2d13-ec7a-460b-bcec-da4b28dd893b",
   "metadata": {},
   "outputs": [
    {
     "data": {
      "text/plain": [
       "[1, 8, 27, 64, 125, 216, 343, 512, 729, 1000]"
      ]
     },
     "execution_count": 18,
     "metadata": {},
     "output_type": "execute_result"
    }
   ],
   "source": [
    "a=lambda k: k**3\n",
    "l1=[1,2,3,4,5,6,7,8,9,10]\n",
    "list(map(a,l1))"
   ]
  },
  {
   "cell_type": "markdown",
   "id": "3f1adc15-6c3f-4394-9b03-4d4682b925a4",
   "metadata": {},
   "source": [
    "Find the square root "
   ]
  },
  {
   "cell_type": "code",
   "execution_count": 17,
   "id": "c557f2a7-f7d6-417f-a639-469edb0a697f",
   "metadata": {},
   "outputs": [
    {
     "data": {
      "text/plain": [
       "[1, 4, 9, 16, 25, 36, 49, 64, 81, 100]"
      ]
     },
     "execution_count": 17,
     "metadata": {},
     "output_type": "execute_result"
    }
   ],
   "source": [
    "a=lambda k: k**2\n",
    "l1=[1,2,3,4,5,6,7,8,9,10]\n",
    "list(map(a,l1))"
   ]
  },
  {
   "cell_type": "markdown",
   "id": "80f2eaca-16ea-440d-b1ff-560632d86fb0",
   "metadata": {},
   "source": [
    "Check if given number is even"
   ]
  },
  {
   "cell_type": "code",
   "execution_count": 20,
   "id": "e1d9573b-3177-4328-b9a9-6c83ae34dd17",
   "metadata": {},
   "outputs": [
    {
     "name": "stdout",
     "output_type": "stream",
     "text": [
      "yes\n"
     ]
    }
   ],
   "source": [
    "a=lambda k: print(\"yes\") if k%2==0 else print('no')\n",
    "a(220)"
   ]
  },
  {
   "cell_type": "markdown",
   "id": "2cbaaa12-3ca4-437c-ba25-68167bb48c4b",
   "metadata": {},
   "source": [
    "B Filter odd numbers from the given list.\n",
    "[1,2,3,4,5,6,7,8,9,10]"
   ]
  },
  {
   "cell_type": "code",
   "execution_count": 1,
   "id": "8389597b-e0dd-432e-9c04-acf0c6ae791b",
   "metadata": {},
   "outputs": [
    {
     "data": {
      "text/plain": [
       "[1, 3, 5, 7, 9]"
      ]
     },
     "execution_count": 1,
     "metadata": {},
     "output_type": "execute_result"
    }
   ],
   "source": [
    "l1=[1,2,3,4,5,6,7,8,9,10]\n",
    "list(filter(lambda x :x%2!=0,l1))"
   ]
  },
  {
   "cell_type": "markdown",
   "id": "bf3e4f9d-4751-47de-be37-b4ceb76a0267",
   "metadata": {},
   "source": [
    "Sort a list of integers into positive and negative integers lists.\n",
    "[1,2,3,4,5,6,-1,-2,-3,-4,-5,0]"
   ]
  },
  {
   "cell_type": "code",
   "execution_count": 2,
   "id": "22f53d33-254c-45b6-9a42-54e91333327b",
   "metadata": {},
   "outputs": [
    {
     "ename": "SyntaxError",
     "evalue": "incomplete input (2608198696.py, line 4)",
     "output_type": "error",
     "traceback": [
      "\u001b[0;36m  Cell \u001b[0;32mIn[2], line 4\u001b[0;36m\u001b[0m\n\u001b[0;31m    \u001b[0m\n\u001b[0m    ^\u001b[0m\n\u001b[0;31mSyntaxError\u001b[0m\u001b[0;31m:\u001b[0m incomplete input\n"
     ]
    }
   ],
   "source": [
    "l1=[1,2,3,4,5,6,-1,-2,-3,-4,-5,0]\n",
    "k= list(filter(lambda x: x<0,l1))\n",
    "h=list(filter(lambda x:x>0,l1))\n",
    "       \n"
   ]
  },
  {
   "cell_type": "code",
   "execution_count": null,
   "id": "0a6ae7e8-2d5c-436a-998b-5ae9cbd115af",
   "metadata": {},
   "outputs": [],
   "source": []
  }
 ],
 "metadata": {
  "kernelspec": {
   "display_name": "Python 3 (ipykernel)",
   "language": "python",
   "name": "python3"
  },
  "language_info": {
   "codemirror_mode": {
    "name": "ipython",
    "version": 3
   },
   "file_extension": ".py",
   "mimetype": "text/x-python",
   "name": "python",
   "nbconvert_exporter": "python",
   "pygments_lexer": "ipython3",
   "version": "3.10.8"
  }
 },
 "nbformat": 4,
 "nbformat_minor": 5
}
