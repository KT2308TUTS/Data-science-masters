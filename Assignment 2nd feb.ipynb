{
 "cells": [
  {
   "cell_type": "markdown",
   "id": "e57101a4-049c-47d3-b0ad-cc7996326898",
   "metadata": {},
   "source": [
    "1. Tuples are defined as set of data contained in paranthesis,\n",
    "   Eg: A=(1,2,3) is a tuple.\n",
    "   No tuples are not mutable unlike lists"
   ]
  },
  {
   "cell_type": "markdown",
   "id": "23221735-c171-40db-a405-f9e429e311ae",
   "metadata": {},
   "source": [
    "2. Tuples have two methods 1) Count 2)index\n",
    "    count will count the given arguements as shown in example given below and index will tell the address"
   ]
  },
  {
   "cell_type": "code",
   "execution_count": 5,
   "id": "0c3e15d9-4ba4-49f0-80e3-d5bd1ad823aa",
   "metadata": {},
   "outputs": [
    {
     "name": "stdout",
     "output_type": "stream",
     "text": [
      "The no of times 3 is repeated is:  2\n",
      "Index of 4 is:  3\n"
     ]
    }
   ],
   "source": [
    "a=(1,2,3,4,5,3,2)\n",
    "print(\"The no of times 3 is repeated is: \",a.count(3))\n",
    "print(\"Index of 4 is: \",a.index(4))"
   ]
  },
  {
   "cell_type": "markdown",
   "id": "72b1b1f8-d30c-430e-b60e-93f1b9fcb0ed",
   "metadata": {},
   "source": [
    "3. A set is a data type which doesnt allows duplicate items."
   ]
  },
  {
   "cell_type": "code",
   "execution_count": 6,
   "id": "b495c74f-8c01-40d7-b04b-08726ba2b68b",
   "metadata": {},
   "outputs": [],
   "source": [
    "List = [1, 1, 1, 2, 1, 3, 1, 4, 2, 1, 2, 2, 2, 3, 2, 4, 3, 1, 3, 2, 3, 3, 3, 4, 4, 1, 4, 2, 4, 3, 4, 4]"
   ]
  },
  {
   "cell_type": "code",
   "execution_count": 12,
   "id": "7bfd1295-4bdd-4824-bfec-3dfc37515fe7",
   "metadata": {},
   "outputs": [
    {
     "data": {
      "text/plain": [
       "set"
      ]
     },
     "execution_count": 12,
     "metadata": {},
     "output_type": "execute_result"
    }
   ],
   "source": [
    "k=set(list())\n",
    "type(k)"
   ]
  },
  {
   "cell_type": "code",
   "execution_count": 13,
   "id": "cfbdf3c2-9cbb-4899-8cbe-e0c361f9d2c2",
   "metadata": {},
   "outputs": [
    {
     "name": "stdout",
     "output_type": "stream",
     "text": [
      "{1, 2, 3, 4, 5, 6, 7}\n"
     ]
    }
   ],
   "source": [
    "#4. Update will update the current set as asked by the user while union will merge the elements of both the sets.\n",
    "k1={1,2,3,4}\n",
    "k2={4,5,6,7}\n",
    "k1.update(k2)\n",
    "print(k1)"
   ]
  },
  {
   "cell_type": "code",
   "execution_count": 14,
   "id": "107a8ce7-f19e-493b-acc1-9581c5556d53",
   "metadata": {},
   "outputs": [
    {
     "name": "stdout",
     "output_type": "stream",
     "text": [
      "{1, 2, 3, 4, 5, 6, 7}\n"
     ]
    }
   ],
   "source": [
    "k1.union(k2)\n",
    "print(k1)"
   ]
  },
  {
   "cell_type": "markdown",
   "id": "d8b625a2-f8e4-4f68-8568-482c4f935044",
   "metadata": {},
   "source": [
    "5. Dictionaries are used to store data values in key:value pairs.\n",
    "    Yes dictionaries are ordered"
   ]
  },
  {
   "cell_type": "code",
   "execution_count": 17,
   "id": "862224cb-c7fc-4d55-8a4a-7d43fe431144",
   "metadata": {},
   "outputs": [],
   "source": [
    "d1={ 'key1':\"HI\", 'key2': '34', 'key3':\"Hello\"}"
   ]
  },
  {
   "cell_type": "code",
   "execution_count": 18,
   "id": "0a273e4e-6a06-40e4-9cba-fcd9b4fc200b",
   "metadata": {},
   "outputs": [
    {
     "name": "stdout",
     "output_type": "stream",
     "text": [
      "{'key1': 'HI', 'key2': '34', 'key3': 'Hello'}\n"
     ]
    }
   ],
   "source": [
    "print(d1)"
   ]
  },
  {
   "cell_type": "markdown",
   "id": "0d7ae2ec-8dda-4de4-a929-1dbe08294447",
   "metadata": {},
   "source": [
    "6.Yes we can create a nested dictionary.\n",
    "example is given below "
   ]
  },
  {
   "cell_type": "code",
   "execution_count": 20,
   "id": "353232dc-6549-462e-88a8-b411cea3cc80",
   "metadata": {},
   "outputs": [
    {
     "name": "stdout",
     "output_type": "stream",
     "text": [
      "{'k1': 'hell', 'key2': {'a': 'tension', 'b': 'hypertrophy', 'c': 'strenght'}}\n"
     ]
    }
   ],
   "source": [
    "d2={'k1':\"hell\",\"key2\":{\"a\":\"tension\",\"b\":\"hypertrophy\",\"c\":\"strenght\"}}\n",
    "print(d2)"
   ]
  },
  {
   "cell_type": "markdown",
   "id": "10e4566a-ffee-43d7-b6b1-6a3176467de8",
   "metadata": {},
   "source": [
    "7."
   ]
  },
  {
   "cell_type": "code",
   "execution_count": 11,
   "id": "d5a42048-69ed-442b-b7bb-8328adbc3792",
   "metadata": {},
   "outputs": [
    {
     "name": "stdout",
     "output_type": "stream",
     "text": [
      "{'language': 'python', 'course': 'Data science masterss', 'Topics': ['python', 'deep learning', 'machine learning']}\n"
     ]
    }
   ],
   "source": [
    "d1={'language':'python','course':'Data science masterss'}\n",
    "d1.setdefault('Topics',['python','deep learning','machine learning'])\n",
    "print(d1)"
   ]
  },
  {
   "cell_type": "markdown",
   "id": "701bafa1-4dde-47ed-9b7e-6a7a17b64561",
   "metadata": {},
   "source": [
    "### 8."
   ]
  },
  {
   "cell_type": "markdown",
   "id": "64ce4a49-3ffd-4e4d-b77b-57cba58e6f7d",
   "metadata": {},
   "source": [
    "View objects are keys,values and items."
   ]
  }
 ],
 "metadata": {
  "kernelspec": {
   "display_name": "Python 3 (ipykernel)",
   "language": "python",
   "name": "python3"
  },
  "language_info": {
   "codemirror_mode": {
    "name": "ipython",
    "version": 3
   },
   "file_extension": ".py",
   "mimetype": "text/x-python",
   "name": "python",
   "nbconvert_exporter": "python",
   "pygments_lexer": "ipython3",
   "version": "3.10.8"
  }
 },
 "nbformat": 4,
 "nbformat_minor": 5
}
