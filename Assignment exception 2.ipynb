{
 "cells": [
  {
   "cell_type": "markdown",
   "id": "3209abb8-69c3-4726-8c0b-a8f30104c3fe",
   "metadata": {},
   "source": [
    "1. Exception class is used as it is superclass and it contains all the exceptions so while making custom exception we use it."
   ]
  },
  {
   "cell_type": "markdown",
   "id": "fd06e59c-e7f3-4d65-a922-ff17a1849c03",
   "metadata": {},
   "source": [
    "2. The Python exception class hierarchy consists of a few dozen different exceptions spread across a handful of important base class types."
   ]
  },
  {
   "cell_type": "markdown",
   "id": "1efde633-dea4-4d31-bac5-912f08760cb3",
   "metadata": {},
   "source": [
    "3.The arithmetic error occurs when an error is encountered during numeric calculations in Python. This includes Zerodivision Error and Floating point error."
   ]
  },
  {
   "cell_type": "code",
   "execution_count": 1,
   "id": "0665828d-0f42-4788-95c7-77877c17a4ec",
   "metadata": {},
   "outputs": [
    {
     "name": "stdout",
     "output_type": "stream",
     "text": [
      "division by zero\n"
     ]
    }
   ],
   "source": [
    "try:\n",
    "    a=10/0\n",
    "except ArithmeticError as e:\n",
    "    print(e)"
   ]
  },
  {
   "cell_type": "markdown",
   "id": "0c777196-5b98-436e-a32e-9d1e0f8243b4",
   "metadata": {},
   "source": [
    "4.The LookupError exception in Python forms the base class for all exceptions that are raised when an index or a key is not found for a sequence or dictionary respectively."
   ]
  },
  {
   "cell_type": "code",
   "execution_count": 7,
   "id": "a4c2f7c1-748d-4c8b-8c32-5ee6f9e7c523",
   "metadata": {},
   "outputs": [
    {
     "name": "stdout",
     "output_type": "stream",
     "text": [
      "hi\n"
     ]
    }
   ],
   "source": [
    "try:\n",
    "    a={\"k1\":\"hi\",\"k2\":\"hello\"}\n",
    "    x=a[\"k1\"]\n",
    "    print(x)\n",
    "except KeyError as e:\n",
    "       print(e)"
   ]
  },
  {
   "cell_type": "code",
   "execution_count": 8,
   "id": "3cc15a31-c355-418d-9376-56608d5f9030",
   "metadata": {},
   "outputs": [
    {
     "name": "stdout",
     "output_type": "stream",
     "text": [
      "list index out of range\n"
     ]
    }
   ],
   "source": [
    "try:\n",
    "    a=[1,2,3,4]\n",
    "    print(a[10])\n",
    "except IndexError as e:\n",
    "       print(e)"
   ]
  },
  {
   "cell_type": "markdown",
   "id": "5b283f0b-b1a7-4fac-a577-dab4867b6316",
   "metadata": {},
   "source": [
    "5. Import error is used when a certain module is not found."
   ]
  },
  {
   "cell_type": "code",
   "execution_count": 11,
   "id": "4c82f0e2-d10f-43b6-9a66-287cce5a7920",
   "metadata": {},
   "outputs": [
    {
     "ename": "NameError",
     "evalue": "name 'json' is not defined",
     "output_type": "error",
     "traceback": [
      "\u001b[0;31m---------------------------------------------------------------------------\u001b[0m",
      "\u001b[0;31mNameError\u001b[0m                                 Traceback (most recent call last)",
      "Cell \u001b[0;32mIn[11], line 3\u001b[0m\n\u001b[1;32m      1\u001b[0m \u001b[38;5;28;01mtry\u001b[39;00m:\n\u001b[1;32m      2\u001b[0m     \u001b[38;5;28;01mwith\u001b[39;00m \u001b[38;5;28mopen\u001b[39m(\u001b[38;5;124m\"\u001b[39m\u001b[38;5;124mer.json\u001b[39m\u001b[38;5;124m\"\u001b[39m,\u001b[38;5;124m'\u001b[39m\u001b[38;5;124mw\u001b[39m\u001b[38;5;124m'\u001b[39m) \u001b[38;5;28;01mas\u001b[39;00m k:\n\u001b[0;32m----> 3\u001b[0m         \u001b[43mjson\u001b[49m\u001b[38;5;241m.\u001b[39mdump(a,k) \n\u001b[1;32m      4\u001b[0m \u001b[38;5;28;01mexcept\u001b[39;00m \u001b[38;5;167;01mImportError\u001b[39;00m \u001b[38;5;28;01mas\u001b[39;00m e:  \n\u001b[1;32m      5\u001b[0m     \u001b[38;5;28mprint\u001b[39m(e)\n",
      "\u001b[0;31mNameError\u001b[0m: name 'json' is not defined"
     ]
    }
   ],
   "source": [
    "try:\n",
    "    with open(\"er.json\",'w') as k:\n",
    "        json.dump(a,k) \n",
    "except ImportError as e:  \n",
    "    print(e)"
   ]
  },
  {
   "cell_type": "markdown",
   "id": "b01399b2-c49a-4153-8e3f-e781bfc6a658",
   "metadata": {},
   "source": [
    "6. Best practices are to use the specific error class.  To use logging with every code."
   ]
  },
  {
   "cell_type": "code",
   "execution_count": null,
   "id": "48073b2e-de44-4dd3-9805-348948873687",
   "metadata": {},
   "outputs": [],
   "source": []
  }
 ],
 "metadata": {
  "kernelspec": {
   "display_name": "Python 3 (ipykernel)",
   "language": "python",
   "name": "python3"
  },
  "language_info": {
   "codemirror_mode": {
    "name": "ipython",
    "version": 3
   },
   "file_extension": ".py",
   "mimetype": "text/x-python",
   "name": "python",
   "nbconvert_exporter": "python",
   "pygments_lexer": "ipython3",
   "version": "3.10.8"
  }
 },
 "nbformat": 4,
 "nbformat_minor": 5
}
