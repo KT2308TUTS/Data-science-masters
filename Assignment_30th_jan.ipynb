{
 "cells": [
  {
   "cell_type": "code",
   "execution_count": 2,
   "id": "93148371-46f8-4d37-83cd-87be03baaf43",
   "metadata": {},
   "outputs": [
    {
     "name": "stdin",
     "output_type": "stream",
     "text": [
      "Enter your marks:  100\n"
     ]
    },
    {
     "name": "stdout",
     "output_type": "stream",
     "text": [
      "Grade A\n"
     ]
    }
   ],
   "source": [
    "a=int(input(\"Enter your marks: \", ))\n",
    "if a>90:\n",
    "      print(\"Grade A\")\n",
    "elif a>80 and a<=90:\n",
    "      print(\"Grade B\")\n",
    "elif a>60 and a<=80:\n",
    "      print(\"Grade C\")\n",
    "else:\n",
    "      print(\"Your Grade is D.\")\n",
    "      \n"
   ]
  },
  {
   "cell_type": "code",
   "execution_count": 4,
   "id": "c44cfc89-9b60-4c0d-a267-399e6bc5f1a5",
   "metadata": {},
   "outputs": [
    {
     "name": "stdin",
     "output_type": "stream",
     "text": [
      "Enter the price:  4000000\n"
     ]
    },
    {
     "name": "stdout",
     "output_type": "stream",
     "text": [
      "7400000.0\n"
     ]
    }
   ],
   "source": [
    "a=int(input(\"Enter the price: \", ))\n",
    "if a>100000:\n",
    "      a=a+a*0.85\n",
    "      print(a)\n",
    "elif a>50000 and a<100000:\n",
    "      a=a+a*0.9\n",
    "else: \n",
    "      a=a+0.95"
   ]
  },
  {
   "cell_type": "code",
   "execution_count": 6,
   "id": "abf31d72-ff83-4271-a34e-5e3bf57e1646",
   "metadata": {},
   "outputs": [
    {
     "name": "stdin",
     "output_type": "stream",
     "text": [
      "Enter the city:  Delhi\n"
     ]
    },
    {
     "name": "stdout",
     "output_type": "stream",
     "text": [
      "Red fort\n"
     ]
    }
   ],
   "source": [
    "a=input(\"Enter the city: \", )\n",
    "if a==\"Delhi\"or a==\"delhi\":\n",
    "    print(\"Red fort\")\n",
    "elif a==\"Agra\"or a==\"agra\":\n",
    "    print(\"Taj Mahal\")\n",
    "elif a==\"Jaipur\"or a==\"jaipur\":\n",
    "    print(\"Hawa Mahal\")\n",
    "else:\n",
    "    print(\"wrong choice.\")"
   ]
  },
  {
   "cell_type": "markdown",
   "id": "33eee840-5f66-4861-8020-0130c76d3201",
   "metadata": {},
   "source": [
    "Question 4"
   ]
  },
  {
   "cell_type": "code",
   "execution_count": 10,
   "id": "68b556db-ddd2-48de-a9f1-547ebf9aea1d",
   "metadata": {},
   "outputs": [
    {
     "name": "stdin",
     "output_type": "stream",
     "text": [
      "Enter the number:  5\n"
     ]
    },
    {
     "name": "stdout",
     "output_type": "stream",
     "text": [
      "Wrong choice.\n",
      "The number is:  1\n"
     ]
    }
   ],
   "source": [
    "a=int(input(\"Enter the number: \", ))\n",
    "if a!=10:\n",
    "    print(\"Wrong choice.\")\n",
    "count=0\n",
    "for i in range(1,a):\n",
    "    if i%3==0:\n",
    "        count=count+1\n",
    "        \n",
    "    \n",
    "print(\"The number is: \",count)"
   ]
  },
  {
   "cell_type": "markdown",
   "id": "e05462c2-d3b0-4dfc-ac58-f12686f757bc",
   "metadata": {},
   "source": [
    "Question 5\n"
   ]
  },
  {
   "cell_type": "markdown",
   "id": "70814d1e-beee-4b28-89cb-2c9e11cb7b4d",
   "metadata": {},
   "source": [
    "We can use while loop if we want a certain code to be executed till a particular value or to put some restriction on code for examnple"
   ]
  },
  {
   "cell_type": "code",
   "execution_count": 13,
   "id": "f167b5c3-976e-4a96-a031-d90248844114",
   "metadata": {},
   "outputs": [
    {
     "name": "stdout",
     "output_type": "stream",
     "text": [
      "HI\n"
     ]
    }
   ],
   "source": [
    "a=10\n",
    "while(a==10):\n",
    "    print(\"HI\")\n",
    "    a=a+1"
   ]
  },
  {
   "cell_type": "markdown",
   "id": "072c1044-8eb5-4fa2-b60d-5c2e928e5dcc",
   "metadata": {},
   "source": [
    "Question 6"
   ]
  },
  {
   "cell_type": "code",
   "execution_count": 1,
   "id": "83840cb8-bb3e-44ce-ab5d-b36290bc75ff",
   "metadata": {},
   "outputs": [
    {
     "name": "stdout",
     "output_type": "stream",
     "text": [
      "*\n",
      "*\n",
      "*\n",
      "*\n"
     ]
    }
   ],
   "source": [
    "i=5\n",
    "while i>1:\n",
    "    print(\"*\")\n",
    "    i=i-1"
   ]
  },
  {
   "cell_type": "code",
   "execution_count": 5,
   "id": "9d9ed76b-14f5-40eb-a616-281b2cffde5f",
   "metadata": {},
   "outputs": [
    {
     "name": "stdout",
     "output_type": "stream",
     "text": [
      "*####*####*####*####"
     ]
    }
   ],
   "source": [
    "i=5\n",
    "while i>1:\n",
    "    print('*',end='')\n",
    "    i=i-1\n",
    "    j=5\n",
    "    while j>1:\n",
    "        print('#',end='')\n",
    "        j=j-1\n",
    "            "
   ]
  },
  {
   "cell_type": "code",
   "execution_count": 6,
   "id": "5c6f5e35-0931-413c-81c9-7939eef8895d",
   "metadata": {},
   "outputs": [
    {
     "name": "stdout",
     "output_type": "stream",
     "text": [
      "*#\n",
      "#\n",
      "#\n",
      "#\n",
      "*#\n",
      "#\n",
      "#\n",
      "#\n",
      "*#\n",
      "#\n",
      "#\n",
      "#\n",
      "*#\n",
      "#\n",
      "#\n",
      "#\n"
     ]
    }
   ],
   "source": [
    "i=5\n",
    "while i>1:\n",
    "    print('*',end='')\n",
    "    i=i-1\n",
    "    j=5\n",
    "    while j>1:\n",
    "        print('#',)\n",
    "        j=j-1"
   ]
  },
  {
   "cell_type": "code",
   "execution_count": null,
   "id": "7ce960b3-fd2d-4984-a79a-b5a78e4f9bc0",
   "metadata": {},
   "outputs": [],
   "source": []
  },
  {
   "cell_type": "code",
   "execution_count": null,
   "id": "7cded3a0-4866-4530-b51b-484894693569",
   "metadata": {},
   "outputs": [],
   "source": []
  },
  {
   "cell_type": "markdown",
   "id": "37bfdae8-7702-4dbf-9f16-233b98203471",
   "metadata": {},
   "source": [
    "Question 7"
   ]
  },
  {
   "cell_type": "code",
   "execution_count": 15,
   "id": "f956a8b1-59b2-4ac0-9e9e-3fa154fd596a",
   "metadata": {},
   "outputs": [
    {
     "name": "stdout",
     "output_type": "stream",
     "text": [
      "10\n",
      "9\n",
      "8\n",
      "7\n",
      "6\n",
      "5\n",
      "4\n",
      "3\n",
      "2\n"
     ]
    }
   ],
   "source": [
    "a=10\n",
    "while a>1:\n",
    "    print(a)\n",
    "    a=a-1"
   ]
  },
  {
   "cell_type": "code",
   "execution_count": null,
   "id": "004b0e8a-03e2-4d08-9efd-a9eaf134f2b6",
   "metadata": {},
   "outputs": [],
   "source": []
  }
 ],
 "metadata": {
  "kernelspec": {
   "display_name": "Python 3 (ipykernel)",
   "language": "python",
   "name": "python3"
  },
  "language_info": {
   "codemirror_mode": {
    "name": "ipython",
    "version": 3
   },
   "file_extension": ".py",
   "mimetype": "text/x-python",
   "name": "python",
   "nbconvert_exporter": "python",
   "pygments_lexer": "ipython3",
   "version": "3.10.8"
  }
 },
 "nbformat": 4,
 "nbformat_minor": 5
}
