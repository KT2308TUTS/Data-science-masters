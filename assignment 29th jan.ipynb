{
 "cells": [
  {
   "cell_type": "markdown",
   "id": "f751af5c-d61b-4fd4-a90e-875b30b0cc2e",
   "metadata": {},
   "source": [
    "1. Python was developed by Guido Van Russom\n",
    "2. Python support object oriented programming language.\n",
    "3. Yes python is a case sensitive language with respect to identifiers.\n",
    "4. .py is the extension of python file.\n",
    "5. The code in python is compiled.\n",
    "6. print(\"HELLO\")\n",
    "   above is a python code printing a message.\n",
    "   a=int(input(\"Enter: \"'))\n",
    "   above is code taking an input of an integer in a variable named 'a'.\n",
    "7. '#' is character used to give single line comments in python.\n",
    "8. \n",
    "9.  pip is used for installing directories for python.\n",
    "10. 'print','input','type','class' are few inbuit functions.\n",
    "11. An identifier can have a maximum length of 79 characters in Python.\n",
    "12. Python is an open source programming language and it has many directories which leaves user withh no of options for their project.\n",
    "13. Memory management in Python involves a private heap containing all Python objects and data structures. The management of this private heap is    ensured internally by the Python memory manager.\n",
    "14. Python can be installed from official website.\n",
    "15. Yes indentaion is important in python."
   ]
  }
 ],
 "metadata": {
  "kernelspec": {
   "display_name": "Python 3 (ipykernel)",
   "language": "python",
   "name": "python3"
  },
  "language_info": {
   "codemirror_mode": {
    "name": "ipython",
    "version": 3
   },
   "file_extension": ".py",
   "mimetype": "text/x-python",
   "name": "python",
   "nbconvert_exporter": "python",
   "pygments_lexer": "ipython3",
   "version": "3.10.8"
  }
 },
 "nbformat": 4,
 "nbformat_minor": 5
}
