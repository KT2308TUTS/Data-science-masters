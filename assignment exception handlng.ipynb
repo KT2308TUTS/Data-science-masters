{
 "cells": [
  {
   "cell_type": "markdown",
   "id": "6fea01b0-a1ec-4a4f-801e-d9ac9c4a668e",
   "metadata": {},
   "source": [
    "Exception handling"
   ]
  },
  {
   "cell_type": "markdown",
   "id": "c51681b2-7aac-4059-997b-02ebe3ba3b6b",
   "metadata": {},
   "source": [
    "1.Errors cannot be handled, while Python exceptions can be handled at the run time. "
   ]
  },
  {
   "cell_type": "markdown",
   "id": "2e21c8d0-6f9a-4197-8fa5-811f9a8d9fbe",
   "metadata": {},
   "source": [
    "2. If an exception is not handled then it might be difficult to look at the errors."
   ]
  },
  {
   "cell_type": "markdown",
   "id": "39d1af29-ecbe-49ab-b468-3ed74042ea81",
   "metadata": {},
   "source": [
    "3. Except statement is used to catch the exceptions.\n",
    "Example as code below:"
   ]
  },
  {
   "cell_type": "code",
   "execution_count": 1,
   "id": "41db93c1-558d-4b24-9aa2-269c69cdbcf4",
   "metadata": {},
   "outputs": [
    {
     "name": "stdout",
     "output_type": "stream",
     "text": [
      "Error is name 'x' is not defined\n"
     ]
    }
   ],
   "source": [
    "try:\n",
    "    print(x)\n",
    "except Exception as a:\n",
    "    print(\"Error is\",a)"
   ]
  },
  {
   "cell_type": "markdown",
   "id": "3923c2b4-b127-4936-99db-4648684076b4",
   "metadata": {},
   "source": [
    "4. a) try is statement used for a code which needs to be examined.\n",
    "   b) else is used is there is no error then else is executed.\n",
    "   c) raise is used to raise an exception."
   ]
  },
  {
   "cell_type": "code",
   "execution_count": 3,
   "id": "059609f0-4437-4e70-8fcb-a3f984311b04",
   "metadata": {},
   "outputs": [
    {
     "name": "stdout",
     "output_type": "stream",
     "text": [
      "Error is name 'x' is not defined\n"
     ]
    },
    {
     "name": "stdin",
     "output_type": "stream",
     "text": [
      "enter 101\n"
     ]
    },
    {
     "ename": "Exception",
     "evalue": "Wrong entry.",
     "output_type": "error",
     "traceback": [
      "\u001b[0;31m---------------------------------------------------------------------------\u001b[0m",
      "\u001b[0;31mException\u001b[0m                                 Traceback (most recent call last)",
      "Cell \u001b[0;32mIn[3], line 8\u001b[0m\n\u001b[1;32m      6\u001b[0m a\u001b[38;5;241m=\u001b[39m\u001b[38;5;28mint\u001b[39m(\u001b[38;5;28minput\u001b[39m(\u001b[38;5;124m\"\u001b[39m\u001b[38;5;124menter\u001b[39m\u001b[38;5;124m\"\u001b[39m, ))\n\u001b[1;32m      7\u001b[0m \u001b[38;5;28;01mif\u001b[39;00m a\u001b[38;5;241m>\u001b[39m\u001b[38;5;241m100\u001b[39m:\n\u001b[0;32m----> 8\u001b[0m     \u001b[38;5;28;01mraise\u001b[39;00m \u001b[38;5;167;01mException\u001b[39;00m(\u001b[38;5;124m\"\u001b[39m\u001b[38;5;124mWrong entry.\u001b[39m\u001b[38;5;124m\"\u001b[39m)\n",
      "\u001b[0;31mException\u001b[0m: Wrong entry."
     ]
    }
   ],
   "source": [
    "try:\n",
    "    print(x)\n",
    "except Exception as a:\n",
    "    print(\"Error is\",a)\n",
    "    \n",
    "a=int(input(\"enter\", ))\n",
    "if a>100:\n",
    "    raise Exception(\"Wrong entry.\")"
   ]
  },
  {
   "cell_type": "markdown",
   "id": "bc9bf201-578f-4355-b850-f6a2304aba52",
   "metadata": {},
   "source": [
    "5. Custom exceptions are user created functions for certain criterias which user wants to be fulfilled.\n",
    "    "
   ]
  },
  {
   "cell_type": "code",
   "execution_count": 10,
   "id": "fb6f5b7f-e609-411f-be6b-19043ff580d2",
   "metadata": {},
   "outputs": [
    {
     "name": "stdin",
     "output_type": "stream",
     "text": [
      "enter 101\n"
     ]
    },
    {
     "ename": "TypeError",
     "evalue": "'>' not supported between instances of 'str' and 'int'",
     "output_type": "error",
     "traceback": [
      "\u001b[0;31m---------------------------------------------------------------------------\u001b[0m",
      "\u001b[0;31mTypeError\u001b[0m                                 Traceback (most recent call last)",
      "Cell \u001b[0;32mIn[10], line 11\u001b[0m\n\u001b[1;32m      9\u001b[0m \u001b[38;5;28;01mtry\u001b[39;00m:\n\u001b[1;32m     10\u001b[0m     o\u001b[38;5;241m=\u001b[39m\u001b[38;5;28minput\u001b[39m(\u001b[38;5;124m\"\u001b[39m\u001b[38;5;124menter\u001b[39m\u001b[38;5;124m\"\u001b[39m)\n\u001b[0;32m---> 11\u001b[0m     \u001b[43mnumber\u001b[49m\u001b[43m(\u001b[49m\u001b[43mo\u001b[49m\u001b[43m)\u001b[49m\n\u001b[1;32m     12\u001b[0m \u001b[38;5;28;01mexcept\u001b[39;00m num \u001b[38;5;28;01mas\u001b[39;00m e:\n\u001b[1;32m     13\u001b[0m     \u001b[38;5;28mprint\u001b[39m(e)\n",
      "Cell \u001b[0;32mIn[10], line 6\u001b[0m, in \u001b[0;36mnumber\u001b[0;34m(o)\u001b[0m\n\u001b[1;32m      5\u001b[0m \u001b[38;5;28;01mdef\u001b[39;00m \u001b[38;5;21mnumber\u001b[39m(o):\n\u001b[0;32m----> 6\u001b[0m     \u001b[38;5;28;01mif\u001b[39;00m \u001b[43mo\u001b[49m\u001b[38;5;241;43m>\u001b[39;49m\u001b[38;5;241;43m100\u001b[39;49m:\n\u001b[1;32m      7\u001b[0m         \u001b[38;5;28;01mraise\u001b[39;00m num(\u001b[38;5;124m\"\u001b[39m\u001b[38;5;124mAge shoulf be less.\u001b[39m\u001b[38;5;124m\"\u001b[39m)\n",
      "\u001b[0;31mTypeError\u001b[0m: '>' not supported between instances of 'str' and 'int'"
     ]
    }
   ],
   "source": [
    "\n",
    "class num(Exception):\n",
    "    def n(self,no):\n",
    "        self.no=no\n",
    "        \n",
    "def number(o):\n",
    "    if o>100:\n",
    "        raise num(\"Age shoulf be less.\")\n",
    "\n",
    "try:\n",
    "    o=input(\"enter\")\n",
    "    number(o)\n",
    "except num as e:\n",
    "    print(e)\n"
   ]
  },
  {
   "cell_type": "markdown",
   "id": "431b519a-12fe-4ada-84c0-87fd63dcf55d",
   "metadata": {},
   "source": []
  }
 ],
 "metadata": {
  "kernelspec": {
   "display_name": "Python 3 (ipykernel)",
   "language": "python",
   "name": "python3"
  },
  "language_info": {
   "codemirror_mode": {
    "name": "ipython",
    "version": 3
   },
   "file_extension": ".py",
   "mimetype": "text/x-python",
   "name": "python",
   "nbconvert_exporter": "python",
   "pygments_lexer": "ipython3",
   "version": "3.10.8"
  }
 },
 "nbformat": 4,
 "nbformat_minor": 5
}
