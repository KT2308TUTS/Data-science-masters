{
 "cells": [
  {
   "cell_type": "markdown",
   "id": "1cbf8ffc-bfcf-4e22-a27a-cd96f37079a8",
   "metadata": {},
   "source": [
    "1.API stands for applicaton programming interface. API are used for applications to carry internal communications."
   ]
  },
  {
   "cell_type": "markdown",
   "id": "100ac5fc-e616-451c-89c5-09632ee09cab",
   "metadata": {},
   "source": [
    "2. Advantages: APIs are efficient,Integratable, Customizable\n",
    "   Disadvantages:  APIs are costly at times to create, security issues, complex"
   ]
  },
  {
   "cell_type": "markdown",
   "id": "2b62dc52-604a-4771-a664-da2e22df4d02",
   "metadata": {},
   "source": [
    "3. web api works on HTTP protocol while API works on TCP,SMTP protocols"
   ]
  },
  {
   "cell_type": "markdown",
   "id": "a3f3128f-0d5b-4f5c-9057-3c641dae8dad",
   "metadata": {},
   "source": [
    "4. REST (Representational State Transfer) is a widely used architectural style for designing web-based software systems. SOAP (Simple Object Access Protocol) is a messaging protocol used in web services to facilitate the exchange of structured information between systems. "
   ]
  },
  {
   "cell_type": "markdown",
   "id": "107a4586-d271-46da-9730-c2e478f842a5",
   "metadata": {},
   "source": [
    "5. REST (Representational State Transfer) is a widely used architectural style for designing web-based software systems. SOAP (Simple Object Access Protocol) is a messaging protocol used in web services to facilitate the exchange of structured information between systems."
   ]
  },
  {
   "cell_type": "code",
   "execution_count": null,
   "id": "b010aafd-86f0-45f6-bffb-6427a65efdfc",
   "metadata": {},
   "outputs": [],
   "source": []
  }
 ],
 "metadata": {
  "kernelspec": {
   "display_name": "Python 3 (ipykernel)",
   "language": "python",
   "name": "python3"
  },
  "language_info": {
   "codemirror_mode": {
    "name": "ipython",
    "version": 3
   },
   "file_extension": ".py",
   "mimetype": "text/x-python",
   "name": "python",
   "nbconvert_exporter": "python",
   "pygments_lexer": "ipython3",
   "version": "3.10.8"
  }
 },
 "nbformat": 4,
 "nbformat_minor": 5
}
